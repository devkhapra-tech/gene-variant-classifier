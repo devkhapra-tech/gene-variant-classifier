{
 "cells": [
  {
   "cell_type": "code",
   "execution_count": 1,
   "id": "b0212a06-5f3e-4e29-9c17-1dbc26a72931",
   "metadata": {},
   "outputs": [
    {
     "name": "stdout",
     "output_type": "stream",
     "text": [
      "Requirement already satisfied: optuna in c:\\users\\dev khapra\\appdata\\local\\programs\\python\\python313\\lib\\site-packages (4.4.0)\n",
      "Requirement already satisfied: alembic>=1.5.0 in c:\\users\\dev khapra\\appdata\\local\\programs\\python\\python313\\lib\\site-packages (from optuna) (1.16.2)\n",
      "Requirement already satisfied: colorlog in c:\\users\\dev khapra\\appdata\\local\\programs\\python\\python313\\lib\\site-packages (from optuna) (6.9.0)\n",
      "Requirement already satisfied: numpy in c:\\users\\dev khapra\\appdata\\local\\programs\\python\\python313\\lib\\site-packages (from optuna) (2.3.0)\n",
      "Requirement already satisfied: packaging>=20.0 in c:\\users\\dev khapra\\appdata\\local\\programs\\python\\python313\\lib\\site-packages (from optuna) (24.2)\n",
      "Requirement already satisfied: sqlalchemy>=1.4.2 in c:\\users\\dev khapra\\appdata\\local\\programs\\python\\python313\\lib\\site-packages (from optuna) (2.0.41)\n",
      "Requirement already satisfied: tqdm in c:\\users\\dev khapra\\appdata\\local\\programs\\python\\python313\\lib\\site-packages (from optuna) (4.67.1)\n",
      "Requirement already satisfied: PyYAML in c:\\users\\dev khapra\\appdata\\local\\programs\\python\\python313\\lib\\site-packages (from optuna) (6.0.2)\n",
      "Requirement already satisfied: Mako in c:\\users\\dev khapra\\appdata\\local\\programs\\python\\python313\\lib\\site-packages (from alembic>=1.5.0->optuna) (1.3.10)\n",
      "Requirement already satisfied: typing-extensions>=4.12 in c:\\users\\dev khapra\\appdata\\local\\programs\\python\\python313\\lib\\site-packages (from alembic>=1.5.0->optuna) (4.14.0)\n",
      "Requirement already satisfied: greenlet>=1 in c:\\users\\dev khapra\\appdata\\local\\programs\\python\\python313\\lib\\site-packages (from sqlalchemy>=1.4.2->optuna) (3.2.3)\n",
      "Requirement already satisfied: colorama in c:\\users\\dev khapra\\appdata\\local\\programs\\python\\python313\\lib\\site-packages (from colorlog->optuna) (0.4.6)\n",
      "Requirement already satisfied: MarkupSafe>=0.9.2 in c:\\users\\dev khapra\\appdata\\local\\programs\\python\\python313\\lib\\site-packages (from Mako->alembic>=1.5.0->optuna) (3.0.2)\n"
     ]
    },
    {
     "name": "stderr",
     "output_type": "stream",
     "text": [
      "\n",
      "[notice] A new release of pip is available: 24.3.1 -> 25.1.1\n",
      "[notice] To update, run: python.exe -m pip install --upgrade pip\n"
     ]
    },
    {
     "name": "stdout",
     "output_type": "stream",
     "text": [
      "Requirement already satisfied: imblearn in c:\\users\\dev khapra\\appdata\\local\\programs\\python\\python313\\lib\\site-packages (0.0)\n",
      "Requirement already satisfied: imbalanced-learn in c:\\users\\dev khapra\\appdata\\local\\programs\\python\\python313\\lib\\site-packages (from imblearn) (0.13.0)\n",
      "Requirement already satisfied: numpy<3,>=1.24.3 in c:\\users\\dev khapra\\appdata\\local\\programs\\python\\python313\\lib\\site-packages (from imbalanced-learn->imblearn) (2.3.0)\n",
      "Requirement already satisfied: scipy<2,>=1.10.1 in c:\\users\\dev khapra\\appdata\\local\\programs\\python\\python313\\lib\\site-packages (from imbalanced-learn->imblearn) (1.15.3)\n",
      "Requirement already satisfied: scikit-learn<2,>=1.3.2 in c:\\users\\dev khapra\\appdata\\local\\programs\\python\\python313\\lib\\site-packages (from imbalanced-learn->imblearn) (1.6.1)\n",
      "Requirement already satisfied: sklearn-compat<1,>=0.1 in c:\\users\\dev khapra\\appdata\\local\\programs\\python\\python313\\lib\\site-packages (from imbalanced-learn->imblearn) (0.1.3)\n",
      "Requirement already satisfied: joblib<2,>=1.1.1 in c:\\users\\dev khapra\\appdata\\local\\programs\\python\\python313\\lib\\site-packages (from imbalanced-learn->imblearn) (1.5.1)\n",
      "Requirement already satisfied: threadpoolctl<4,>=2.0.0 in c:\\users\\dev khapra\\appdata\\local\\programs\\python\\python313\\lib\\site-packages (from imbalanced-learn->imblearn) (3.6.0)\n"
     ]
    },
    {
     "name": "stderr",
     "output_type": "stream",
     "text": [
      "\n",
      "[notice] A new release of pip is available: 24.3.1 -> 25.1.1\n",
      "[notice] To update, run: python.exe -m pip install --upgrade pip\n"
     ]
    }
   ],
   "source": [
    "!pip install optuna\n",
    "!pip install imblearn\n",
    "import numpy as np\n",
    "import pandas as pd\n",
    "from sklearn.pipeline import Pipeline\n",
    "from sklearn.compose import ColumnTransformer\n",
    "from sklearn.preprocessing import StandardScaler, PowerTransformer, OneHotEncoder\n",
    "from sklearn.impute import SimpleImputer\n",
    "from sklearn.tree import DecisionTreeClassifier\n",
    "from sklearn.model_selection import train_test_split\n",
    "from sklearn.preprocessing import LabelEncoder\n",
    "import pandas as pd\n",
    "from imblearn.over_sampling import SMOTE\n",
    "from imblearn.pipeline import Pipeline as ImbPipeline\n",
    "from sklearn.ensemble import RandomForestClassifier\n",
    "from sklearn.preprocessing import LabelEncoder\n",
    "from sklearn.ensemble import RandomForestClassifier\n",
    "from sklearn.tree import DecisionTreeClassifier\n",
    "from sklearn.model_selection import StratifiedKFold, cross_val_score\n",
    "from sklearn.metrics import classification_report, roc_auc_score\n",
    "from sklearn.metrics import accuracy_score\n",
    "from sklearn.model_selection import GridSearchCV\n",
    "\n",
    "import optuna\n"
   ]
  },
  {
   "cell_type": "code",
   "execution_count": 2,
   "id": "ed9768f2-ac14-4407-be6d-dd2c1bfc9047",
   "metadata": {},
   "outputs": [],
   "source": [
    "df=pd.read_csv('clinvar.csv',low_memory=False)"
   ]
  },
  {
   "cell_type": "code",
   "execution_count": 3,
   "id": "f4d8bad0-d47b-4614-b0cb-ef0c499ae61f",
   "metadata": {},
   "outputs": [
    {
     "data": {
      "text/html": [
       "<div>\n",
       "<style scoped>\n",
       "    .dataframe tbody tr th:only-of-type {\n",
       "        vertical-align: middle;\n",
       "    }\n",
       "\n",
       "    .dataframe tbody tr th {\n",
       "        vertical-align: top;\n",
       "    }\n",
       "\n",
       "    .dataframe thead th {\n",
       "        text-align: right;\n",
       "    }\n",
       "</style>\n",
       "<table border=\"1\" class=\"dataframe\">\n",
       "  <thead>\n",
       "    <tr style=\"text-align: right;\">\n",
       "      <th></th>\n",
       "      <th>CHROM</th>\n",
       "      <th>POS</th>\n",
       "      <th>REF</th>\n",
       "      <th>ALT</th>\n",
       "      <th>AF_ESP</th>\n",
       "      <th>AF_EXAC</th>\n",
       "      <th>AF_TGP</th>\n",
       "      <th>CLNDISDB</th>\n",
       "      <th>CLNDISDBINCL</th>\n",
       "      <th>CLNDN</th>\n",
       "      <th>...</th>\n",
       "      <th>SIFT</th>\n",
       "      <th>PolyPhen</th>\n",
       "      <th>MOTIF_NAME</th>\n",
       "      <th>MOTIF_POS</th>\n",
       "      <th>HIGH_INF_POS</th>\n",
       "      <th>MOTIF_SCORE_CHANGE</th>\n",
       "      <th>LoFtool</th>\n",
       "      <th>CADD_PHRED</th>\n",
       "      <th>CADD_RAW</th>\n",
       "      <th>BLOSUM62</th>\n",
       "    </tr>\n",
       "  </thead>\n",
       "  <tbody>\n",
       "    <tr>\n",
       "      <th>0</th>\n",
       "      <td>1</td>\n",
       "      <td>1168180</td>\n",
       "      <td>G</td>\n",
       "      <td>C</td>\n",
       "      <td>0.0771</td>\n",
       "      <td>0.10020</td>\n",
       "      <td>0.1066</td>\n",
       "      <td>MedGen:CN169374</td>\n",
       "      <td>NaN</td>\n",
       "      <td>not_specified</td>\n",
       "      <td>...</td>\n",
       "      <td>tolerated</td>\n",
       "      <td>benign</td>\n",
       "      <td>NaN</td>\n",
       "      <td>NaN</td>\n",
       "      <td>NaN</td>\n",
       "      <td>NaN</td>\n",
       "      <td>NaN</td>\n",
       "      <td>1.053</td>\n",
       "      <td>-0.208682</td>\n",
       "      <td>2.0</td>\n",
       "    </tr>\n",
       "    <tr>\n",
       "      <th>1</th>\n",
       "      <td>1</td>\n",
       "      <td>1470752</td>\n",
       "      <td>G</td>\n",
       "      <td>A</td>\n",
       "      <td>0.0000</td>\n",
       "      <td>0.00000</td>\n",
       "      <td>0.0000</td>\n",
       "      <td>MedGen:C1843891,OMIM:607454,Orphanet:ORPHA9877...</td>\n",
       "      <td>NaN</td>\n",
       "      <td>Spinocerebellar_ataxia_21|not_provided</td>\n",
       "      <td>...</td>\n",
       "      <td>deleterious_low_confidence</td>\n",
       "      <td>benign</td>\n",
       "      <td>NaN</td>\n",
       "      <td>NaN</td>\n",
       "      <td>NaN</td>\n",
       "      <td>NaN</td>\n",
       "      <td>NaN</td>\n",
       "      <td>31.000</td>\n",
       "      <td>6.517838</td>\n",
       "      <td>-3.0</td>\n",
       "    </tr>\n",
       "    <tr>\n",
       "      <th>2</th>\n",
       "      <td>1</td>\n",
       "      <td>1737942</td>\n",
       "      <td>A</td>\n",
       "      <td>G</td>\n",
       "      <td>0.0000</td>\n",
       "      <td>0.00001</td>\n",
       "      <td>0.0000</td>\n",
       "      <td>Human_Phenotype_Ontology:HP:0000486,MedGen:C00...</td>\n",
       "      <td>NaN</td>\n",
       "      <td>Strabismus|Nystagmus|Hypothyroidism|Intellectu...</td>\n",
       "      <td>...</td>\n",
       "      <td>deleterious</td>\n",
       "      <td>probably_damaging</td>\n",
       "      <td>NaN</td>\n",
       "      <td>NaN</td>\n",
       "      <td>NaN</td>\n",
       "      <td>NaN</td>\n",
       "      <td>NaN</td>\n",
       "      <td>28.100</td>\n",
       "      <td>6.061752</td>\n",
       "      <td>-1.0</td>\n",
       "    </tr>\n",
       "    <tr>\n",
       "      <th>3</th>\n",
       "      <td>1</td>\n",
       "      <td>2160305</td>\n",
       "      <td>G</td>\n",
       "      <td>A</td>\n",
       "      <td>0.0000</td>\n",
       "      <td>0.00000</td>\n",
       "      <td>0.0000</td>\n",
       "      <td>MedGen:C1321551,OMIM:182212,SNOMED_CT:83092002...</td>\n",
       "      <td>NaN</td>\n",
       "      <td>Shprintzen-Goldberg_syndrome|not_provided</td>\n",
       "      <td>...</td>\n",
       "      <td>NaN</td>\n",
       "      <td>NaN</td>\n",
       "      <td>NaN</td>\n",
       "      <td>NaN</td>\n",
       "      <td>NaN</td>\n",
       "      <td>NaN</td>\n",
       "      <td>NaN</td>\n",
       "      <td>22.500</td>\n",
       "      <td>3.114491</td>\n",
       "      <td>NaN</td>\n",
       "    </tr>\n",
       "    <tr>\n",
       "      <th>4</th>\n",
       "      <td>1</td>\n",
       "      <td>2160305</td>\n",
       "      <td>G</td>\n",
       "      <td>T</td>\n",
       "      <td>0.0000</td>\n",
       "      <td>0.00000</td>\n",
       "      <td>0.0000</td>\n",
       "      <td>MedGen:C1321551,OMIM:182212,SNOMED_CT:83092002</td>\n",
       "      <td>NaN</td>\n",
       "      <td>Shprintzen-Goldberg_syndrome</td>\n",
       "      <td>...</td>\n",
       "      <td>NaN</td>\n",
       "      <td>NaN</td>\n",
       "      <td>NaN</td>\n",
       "      <td>NaN</td>\n",
       "      <td>NaN</td>\n",
       "      <td>NaN</td>\n",
       "      <td>NaN</td>\n",
       "      <td>24.700</td>\n",
       "      <td>4.766224</td>\n",
       "      <td>-3.0</td>\n",
       "    </tr>\n",
       "  </tbody>\n",
       "</table>\n",
       "<p>5 rows × 46 columns</p>\n",
       "</div>"
      ],
      "text/plain": [
       "  CHROM      POS REF ALT  AF_ESP  AF_EXAC  AF_TGP  \\\n",
       "0     1  1168180   G   C  0.0771  0.10020  0.1066   \n",
       "1     1  1470752   G   A  0.0000  0.00000  0.0000   \n",
       "2     1  1737942   A   G  0.0000  0.00001  0.0000   \n",
       "3     1  2160305   G   A  0.0000  0.00000  0.0000   \n",
       "4     1  2160305   G   T  0.0000  0.00000  0.0000   \n",
       "\n",
       "                                            CLNDISDB CLNDISDBINCL  \\\n",
       "0                                    MedGen:CN169374          NaN   \n",
       "1  MedGen:C1843891,OMIM:607454,Orphanet:ORPHA9877...          NaN   \n",
       "2  Human_Phenotype_Ontology:HP:0000486,MedGen:C00...          NaN   \n",
       "3  MedGen:C1321551,OMIM:182212,SNOMED_CT:83092002...          NaN   \n",
       "4     MedGen:C1321551,OMIM:182212,SNOMED_CT:83092002          NaN   \n",
       "\n",
       "                                               CLNDN  ...  \\\n",
       "0                                      not_specified  ...   \n",
       "1             Spinocerebellar_ataxia_21|not_provided  ...   \n",
       "2  Strabismus|Nystagmus|Hypothyroidism|Intellectu...  ...   \n",
       "3          Shprintzen-Goldberg_syndrome|not_provided  ...   \n",
       "4                       Shprintzen-Goldberg_syndrome  ...   \n",
       "\n",
       "                         SIFT           PolyPhen MOTIF_NAME MOTIF_POS  \\\n",
       "0                   tolerated             benign        NaN       NaN   \n",
       "1  deleterious_low_confidence             benign        NaN       NaN   \n",
       "2                 deleterious  probably_damaging        NaN       NaN   \n",
       "3                         NaN                NaN        NaN       NaN   \n",
       "4                         NaN                NaN        NaN       NaN   \n",
       "\n",
       "  HIGH_INF_POS MOTIF_SCORE_CHANGE  LoFtool  CADD_PHRED  CADD_RAW BLOSUM62  \n",
       "0          NaN                NaN      NaN       1.053 -0.208682      2.0  \n",
       "1          NaN                NaN      NaN      31.000  6.517838     -3.0  \n",
       "2          NaN                NaN      NaN      28.100  6.061752     -1.0  \n",
       "3          NaN                NaN      NaN      22.500  3.114491      NaN  \n",
       "4          NaN                NaN      NaN      24.700  4.766224     -3.0  \n",
       "\n",
       "[5 rows x 46 columns]"
      ]
     },
     "execution_count": 3,
     "metadata": {},
     "output_type": "execute_result"
    }
   ],
   "source": [
    "df.head()"
   ]
  },
  {
   "cell_type": "code",
   "execution_count": 4,
   "id": "1e2a12a1-c7fc-4097-8e5a-47d1efa700df",
   "metadata": {},
   "outputs": [
    {
     "data": {
      "text/plain": [
       "PolyPhen\n",
       "benign               13329\n",
       "probably_damaging     7531\n",
       "possibly_damaging     3932\n",
       "unknown                  4\n",
       "Name: count, dtype: int64"
      ]
     },
     "execution_count": 4,
     "metadata": {},
     "output_type": "execute_result"
    }
   ],
   "source": [
    "df['PolyPhen'].value_counts()\n",
    "\n"
   ]
  },
  {
   "cell_type": "code",
   "execution_count": 5,
   "id": "d90967b5-b968-4589-ba19-07116c56517f",
   "metadata": {},
   "outputs": [],
   "source": [
    "df = df[df['PolyPhen'].notna()].copy()\n",
    "df['PolyPhen'] = df['PolyPhen']"
   ]
  },
  {
   "cell_type": "code",
   "execution_count": 6,
   "id": "8f1a2a8b-2e1e-493f-9b60-e996f652022c",
   "metadata": {},
   "outputs": [
    {
     "data": {
      "text/plain": [
       "PolyPhen\n",
       "benign               13329\n",
       "probably_damaging     7531\n",
       "possibly_damaging     3932\n",
       "Name: count, dtype: int64"
      ]
     },
     "execution_count": 6,
     "metadata": {},
     "output_type": "execute_result"
    }
   ],
   "source": [
    "# removing unkown and combining damaging ones(probably and possibly)\n",
    "df = df[df['PolyPhen'] != 'unknown']\n",
    "df['PolyPhen'].value_counts()"
   ]
  },
  {
   "cell_type": "code",
   "execution_count": 7,
   "id": "0ec91cb2-fcd2-4eb8-af3a-342f08df8e9b",
   "metadata": {},
   "outputs": [
    {
     "data": {
      "text/plain": [
       "PolyPhen\n",
       "benign               13329\n",
       "possibly_damaging    11463\n",
       "Name: count, dtype: int64"
      ]
     },
     "execution_count": 7,
     "metadata": {},
     "output_type": "execute_result"
    }
   ],
   "source": [
    "df['PolyPhen'] = df['PolyPhen'].apply(lambda x: 'benign' if x == 'benign' else 'possibly_damaging')\n",
    "df['PolyPhen'].value_counts()"
   ]
  },
  {
   "cell_type": "code",
   "execution_count": 8,
   "id": "d08ccd82-7512-4d3e-bc0e-78e3f3d1661c",
   "metadata": {},
   "outputs": [],
   "source": [
    "x=df.drop('PolyPhen',axis=1)\n",
    "y=df['PolyPhen']"
   ]
  },
  {
   "cell_type": "code",
   "execution_count": 9,
   "id": "f32da873-a441-4324-894b-7655840eec11",
   "metadata": {},
   "outputs": [
    {
     "data": {
      "text/html": [
       "<div>\n",
       "<style scoped>\n",
       "    .dataframe tbody tr th:only-of-type {\n",
       "        vertical-align: middle;\n",
       "    }\n",
       "\n",
       "    .dataframe tbody tr th {\n",
       "        vertical-align: top;\n",
       "    }\n",
       "\n",
       "    .dataframe thead th {\n",
       "        text-align: right;\n",
       "    }\n",
       "</style>\n",
       "<table border=\"1\" class=\"dataframe\">\n",
       "  <thead>\n",
       "    <tr style=\"text-align: right;\">\n",
       "      <th></th>\n",
       "      <th>CHROM</th>\n",
       "      <th>POS</th>\n",
       "      <th>REF</th>\n",
       "      <th>ALT</th>\n",
       "      <th>AF_ESP</th>\n",
       "      <th>AF_EXAC</th>\n",
       "      <th>AF_TGP</th>\n",
       "      <th>CLNDISDB</th>\n",
       "      <th>CLNDN</th>\n",
       "      <th>CLNHGVS</th>\n",
       "      <th>...</th>\n",
       "      <th>Amino_acids</th>\n",
       "      <th>Codons</th>\n",
       "      <th>STRAND</th>\n",
       "      <th>BAM_EDIT</th>\n",
       "      <th>SIFT</th>\n",
       "      <th>PolyPhen</th>\n",
       "      <th>LoFtool</th>\n",
       "      <th>CADD_PHRED</th>\n",
       "      <th>CADD_RAW</th>\n",
       "      <th>BLOSUM62</th>\n",
       "    </tr>\n",
       "  </thead>\n",
       "  <tbody>\n",
       "    <tr>\n",
       "      <th>0</th>\n",
       "      <td>1</td>\n",
       "      <td>1168180</td>\n",
       "      <td>G</td>\n",
       "      <td>C</td>\n",
       "      <td>0.0771</td>\n",
       "      <td>0.10020</td>\n",
       "      <td>0.1066</td>\n",
       "      <td>MedGen:CN169374</td>\n",
       "      <td>not_specified</td>\n",
       "      <td>NC_000001.10:g.1168180G&gt;C</td>\n",
       "      <td>...</td>\n",
       "      <td>E/D</td>\n",
       "      <td>gaG/gaC</td>\n",
       "      <td>1.0</td>\n",
       "      <td>NaN</td>\n",
       "      <td>tolerated</td>\n",
       "      <td>benign</td>\n",
       "      <td>NaN</td>\n",
       "      <td>1.053</td>\n",
       "      <td>-0.208682</td>\n",
       "      <td>2.0</td>\n",
       "    </tr>\n",
       "    <tr>\n",
       "      <th>1</th>\n",
       "      <td>1</td>\n",
       "      <td>1470752</td>\n",
       "      <td>G</td>\n",
       "      <td>A</td>\n",
       "      <td>0.0000</td>\n",
       "      <td>0.00000</td>\n",
       "      <td>0.0000</td>\n",
       "      <td>MedGen:C1843891,OMIM:607454,Orphanet:ORPHA9877...</td>\n",
       "      <td>Spinocerebellar_ataxia_21|not_provided</td>\n",
       "      <td>NC_000001.10:g.1470752G&gt;A</td>\n",
       "      <td>...</td>\n",
       "      <td>P/L</td>\n",
       "      <td>cCg/cTg</td>\n",
       "      <td>-1.0</td>\n",
       "      <td>OK</td>\n",
       "      <td>deleterious_low_confidence</td>\n",
       "      <td>benign</td>\n",
       "      <td>NaN</td>\n",
       "      <td>31.000</td>\n",
       "      <td>6.517838</td>\n",
       "      <td>-3.0</td>\n",
       "    </tr>\n",
       "    <tr>\n",
       "      <th>2</th>\n",
       "      <td>1</td>\n",
       "      <td>1737942</td>\n",
       "      <td>A</td>\n",
       "      <td>G</td>\n",
       "      <td>0.0000</td>\n",
       "      <td>0.00001</td>\n",
       "      <td>0.0000</td>\n",
       "      <td>Human_Phenotype_Ontology:HP:0000486,MedGen:C00...</td>\n",
       "      <td>Strabismus|Nystagmus|Hypothyroidism|Intellectu...</td>\n",
       "      <td>NC_000001.10:g.1737942A&gt;G</td>\n",
       "      <td>...</td>\n",
       "      <td>I/T</td>\n",
       "      <td>aTc/aCc</td>\n",
       "      <td>-1.0</td>\n",
       "      <td>OK</td>\n",
       "      <td>deleterious</td>\n",
       "      <td>possibly_damaging</td>\n",
       "      <td>NaN</td>\n",
       "      <td>28.100</td>\n",
       "      <td>6.061752</td>\n",
       "      <td>-1.0</td>\n",
       "    </tr>\n",
       "    <tr>\n",
       "      <th>9</th>\n",
       "      <td>1</td>\n",
       "      <td>5925304</td>\n",
       "      <td>G</td>\n",
       "      <td>A</td>\n",
       "      <td>0.0045</td>\n",
       "      <td>0.00231</td>\n",
       "      <td>0.0058</td>\n",
       "      <td>MedGen:C0687120,Orphanet:ORPHA655,SNOMED_CT:20...</td>\n",
       "      <td>Nephronophthisis|not_specified</td>\n",
       "      <td>NC_000001.10:g.5925304G&gt;A</td>\n",
       "      <td>...</td>\n",
       "      <td>T/M</td>\n",
       "      <td>aCg/aTg</td>\n",
       "      <td>-1.0</td>\n",
       "      <td>NaN</td>\n",
       "      <td>deleterious</td>\n",
       "      <td>benign</td>\n",
       "      <td>0.021</td>\n",
       "      <td>22.100</td>\n",
       "      <td>2.969650</td>\n",
       "      <td>-1.0</td>\n",
       "    </tr>\n",
       "    <tr>\n",
       "      <th>10</th>\n",
       "      <td>1</td>\n",
       "      <td>5926503</td>\n",
       "      <td>G</td>\n",
       "      <td>A</td>\n",
       "      <td>0.0019</td>\n",
       "      <td>0.00267</td>\n",
       "      <td>0.0010</td>\n",
       "      <td>MedGen:C0687120,Orphanet:ORPHA655,SNOMED_CT:20...</td>\n",
       "      <td>Nephronophthisis|not_specified</td>\n",
       "      <td>NC_000001.10:g.5926503G&gt;A</td>\n",
       "      <td>...</td>\n",
       "      <td>R/W</td>\n",
       "      <td>Cgg/Tgg</td>\n",
       "      <td>-1.0</td>\n",
       "      <td>NaN</td>\n",
       "      <td>deleterious</td>\n",
       "      <td>possibly_damaging</td>\n",
       "      <td>0.021</td>\n",
       "      <td>26.100</td>\n",
       "      <td>5.430178</td>\n",
       "      <td>-3.0</td>\n",
       "    </tr>\n",
       "  </tbody>\n",
       "</table>\n",
       "<p>5 rows × 35 columns</p>\n",
       "</div>"
      ],
      "text/plain": [
       "   CHROM      POS REF ALT  AF_ESP  AF_EXAC  AF_TGP  \\\n",
       "0      1  1168180   G   C  0.0771  0.10020  0.1066   \n",
       "1      1  1470752   G   A  0.0000  0.00000  0.0000   \n",
       "2      1  1737942   A   G  0.0000  0.00001  0.0000   \n",
       "9      1  5925304   G   A  0.0045  0.00231  0.0058   \n",
       "10     1  5926503   G   A  0.0019  0.00267  0.0010   \n",
       "\n",
       "                                             CLNDISDB  \\\n",
       "0                                     MedGen:CN169374   \n",
       "1   MedGen:C1843891,OMIM:607454,Orphanet:ORPHA9877...   \n",
       "2   Human_Phenotype_Ontology:HP:0000486,MedGen:C00...   \n",
       "9   MedGen:C0687120,Orphanet:ORPHA655,SNOMED_CT:20...   \n",
       "10  MedGen:C0687120,Orphanet:ORPHA655,SNOMED_CT:20...   \n",
       "\n",
       "                                                CLNDN  \\\n",
       "0                                       not_specified   \n",
       "1              Spinocerebellar_ataxia_21|not_provided   \n",
       "2   Strabismus|Nystagmus|Hypothyroidism|Intellectu...   \n",
       "9                      Nephronophthisis|not_specified   \n",
       "10                     Nephronophthisis|not_specified   \n",
       "\n",
       "                      CLNHGVS  ... Amino_acids   Codons  STRAND  BAM_EDIT  \\\n",
       "0   NC_000001.10:g.1168180G>C  ...         E/D  gaG/gaC     1.0       NaN   \n",
       "1   NC_000001.10:g.1470752G>A  ...         P/L  cCg/cTg    -1.0        OK   \n",
       "2   NC_000001.10:g.1737942A>G  ...         I/T  aTc/aCc    -1.0        OK   \n",
       "9   NC_000001.10:g.5925304G>A  ...         T/M  aCg/aTg    -1.0       NaN   \n",
       "10  NC_000001.10:g.5926503G>A  ...         R/W  Cgg/Tgg    -1.0       NaN   \n",
       "\n",
       "                          SIFT           PolyPhen LoFtool CADD_PHRED  \\\n",
       "0                    tolerated             benign     NaN      1.053   \n",
       "1   deleterious_low_confidence             benign     NaN     31.000   \n",
       "2                  deleterious  possibly_damaging     NaN     28.100   \n",
       "9                  deleterious             benign   0.021     22.100   \n",
       "10                 deleterious  possibly_damaging   0.021     26.100   \n",
       "\n",
       "    CADD_RAW BLOSUM62  \n",
       "0  -0.208682      2.0  \n",
       "1   6.517838     -3.0  \n",
       "2   6.061752     -1.0  \n",
       "9   2.969650     -1.0  \n",
       "10  5.430178     -3.0  \n",
       "\n",
       "[5 rows x 35 columns]"
      ]
     },
     "metadata": {},
     "output_type": "display_data"
    }
   ],
   "source": [
    "df = df[df['PolyPhen'] != 'unknown']\n",
    "threshold = 0.42 * len(df)\n",
    "df.dropna(axis=1, thresh=threshold, inplace=True)\n",
    "display(df.head())"
   ]
  },
  {
   "cell_type": "code",
   "execution_count": 10,
   "id": "bc1745dc-97ca-45af-bf8f-195710ebf619",
   "metadata": {},
   "outputs": [
    {
     "name": "stdout",
     "output_type": "stream",
     "text": [
      "Numerical columns: ['POS', 'AF_ESP', 'AF_EXAC', 'AF_TGP', 'ORIGIN', 'CLASS', 'STRAND', 'LoFtool', 'CADD_PHRED', 'CADD_RAW', 'BLOSUM62']\n",
      "Categorical columns: ['CHROM', 'REF', 'ALT', 'CLNDISDB', 'CLNDN', 'CLNHGVS', 'CLNVC', 'MC', 'Allele', 'Consequence', 'IMPACT', 'SYMBOL', 'Feature_type', 'Feature', 'BIOTYPE', 'EXON', 'cDNA_position', 'CDS_position', 'Protein_position', 'Amino_acids', 'Codons', 'BAM_EDIT', 'SIFT']\n"
     ]
    }
   ],
   "source": [
    "numerical_cols = df.select_dtypes(include=np.number).columns.tolist()\n",
    "categorical_cols = df.select_dtypes(include='object').columns.tolist()\n",
    "\n",
    "categorical_cols = [col for col in categorical_cols if col != 'PolyPhen']\n",
    "print(\"Numerical columns:\", numerical_cols)\n",
    "print(\"Categorical columns:\", categorical_cols)"
   ]
  },
  {
   "cell_type": "code",
   "execution_count": 11,
   "id": "1498a2a4-29b2-4f6f-8096-1b328a588be8",
   "metadata": {},
   "outputs": [],
   "source": [
    "x = df[numerical_cols + categorical_cols]\n",
    "x = df[numerical_cols + categorical_cols].copy()\n",
    "for col in categorical_cols:\n",
    "    x[col]=x[col].astype(str)"
   ]
  },
  {
   "cell_type": "code",
   "execution_count": 12,
   "id": "adf66252-a2d1-459c-963f-51d316faa7bc",
   "metadata": {},
   "outputs": [
    {
     "data": {
      "text/plain": [
       "CHROM                  0\n",
       "POS                    0\n",
       "REF                    0\n",
       "ALT                    0\n",
       "AF_ESP                 0\n",
       "AF_EXAC                0\n",
       "AF_TGP                 0\n",
       "CLNDISDB               0\n",
       "CLNDN                  0\n",
       "CLNHGVS                0\n",
       "CLNVC                  0\n",
       "MC                     0\n",
       "ORIGIN                 0\n",
       "CLASS                  0\n",
       "Allele                 0\n",
       "Consequence            0\n",
       "IMPACT                 0\n",
       "SYMBOL                 0\n",
       "Feature_type           0\n",
       "Feature                0\n",
       "BIOTYPE                0\n",
       "EXON                   0\n",
       "cDNA_position          0\n",
       "CDS_position           0\n",
       "Protein_position       0\n",
       "Amino_acids            0\n",
       "Codons                 0\n",
       "STRAND                 0\n",
       "BAM_EDIT            9830\n",
       "SIFT                 118\n",
       "PolyPhen               0\n",
       "LoFtool             1662\n",
       "CADD_PHRED            43\n",
       "CADD_RAW              43\n",
       "BLOSUM62            5121\n",
       "dtype: int64"
      ]
     },
     "execution_count": 12,
     "metadata": {},
     "output_type": "execute_result"
    }
   ],
   "source": [
    "df.isnull().sum()"
   ]
  },
  {
   "cell_type": "code",
   "execution_count": 13,
   "id": "15263d42-af83-4e93-951c-5a5cfaac8e89",
   "metadata": {},
   "outputs": [],
   "source": [
    "le = LabelEncoder()\n",
    "y_encoded = le.fit_transform(y)"
   ]
  },
  {
   "cell_type": "code",
   "execution_count": 14,
   "id": "287d680e-2430-491a-b02d-5d0dfb4aa2f7",
   "metadata": {},
   "outputs": [],
   "source": [
    "x_train,x_test,y_train,y_test=train_test_split(x,y,test_size=0.2,random_state=42)"
   ]
  },
  {
   "cell_type": "code",
   "execution_count": 15,
   "id": "8b0c980f-28d1-4eb0-8049-d28d282dae33",
   "metadata": {},
   "outputs": [],
   "source": [
    "num_pipeline=Pipeline(steps=[\n",
    "    ('imputer',SimpleImputer(strategy='median')),\n",
    "    ('processor',PowerTransformer(method='yeo-johnson')),\n",
    "    ('scaler',StandardScaler()) ])\n",
    "\n",
    "cat_pipeline=Pipeline(steps=[\n",
    "    ('imputer',SimpleImputer(strategy='most_frequent')),\n",
    "    ('onehotencoding',OneHotEncoder(drop='first',handle_unknown='ignore')) ])"
   ]
  },
  {
   "cell_type": "code",
   "execution_count": 16,
   "id": "6e4cd195-bf9b-4cbd-949e-04ec918b84b5",
   "metadata": {},
   "outputs": [],
   "source": [
    "processor=ColumnTransformer([\n",
    "    ('numerical',num_pipeline,numerical_cols),\n",
    "    ('categorical',cat_pipeline,categorical_cols)\n",
    "])"
   ]
  },
  {
   "cell_type": "code",
   "execution_count": null,
   "id": "6876c014-e342-4bf1-868e-07c989cd60bf",
   "metadata": {},
   "outputs": [],
   "source": []
  },
  {
   "cell_type": "code",
   "execution_count": 17,
   "id": "4849d842-ef85-4f2c-a9bd-92a2466fa64e",
   "metadata": {},
   "outputs": [
    {
     "name": "stderr",
     "output_type": "stream",
     "text": [
      "[I 2025-06-27 14:14:58,125] A new study created in memory with name: RF_DT_Search\n",
      "C:\\Users\\DEV KHAPRA\\AppData\\Local\\Programs\\Python\\Python313\\Lib\\site-packages\\optuna\\distributions.py:518: UserWarning: Choices for a categorical distribution should be a tuple of None, bool, int, float and str for persistent storage but contains {'benign': 1, 'possibly_damaging': 5} which is of type dict.\n",
      "  warnings.warn(message)\n",
      "[I 2025-06-27 14:15:02,913] Trial 0 finished with value: 0.7731487163597963 and parameters: {'model_type': 'dt', 'max_depth': 89, 'min_samples_split': 22, 'min_samples_leaf': 5, 'criterion': 'entropy', 'class_weight': {'benign': 1, 'possibly_damaging': 5}}. Best is trial 0 with value: 0.7731487163597963.\n",
      "C:\\Users\\DEV KHAPRA\\AppData\\Local\\Programs\\Python\\Python313\\Lib\\site-packages\\optuna\\distributions.py:518: UserWarning: Choices for a categorical distribution should be a tuple of None, bool, int, float and str for persistent storage but contains {'benign': 1, 'possibly_damaging': 5} which is of type dict.\n",
      "  warnings.warn(message)\n",
      "[I 2025-06-27 14:15:07,138] Trial 1 finished with value: 0.8177516704928219 and parameters: {'model_type': 'rf', 'n_estimators': 213, 'max_depth': 74, 'min_samples_split': 17, 'min_samples_leaf': 1, 'max_features': 'log2', 'class_weight': 'balanced'}. Best is trial 1 with value: 0.8177516704928219.\n",
      "C:\\Users\\DEV KHAPRA\\AppData\\Local\\Programs\\Python\\Python313\\Lib\\site-packages\\optuna\\distributions.py:518: UserWarning: Choices for a categorical distribution should be a tuple of None, bool, int, float and str for persistent storage but contains {'benign': 1, 'possibly_damaging': 5} which is of type dict.\n",
      "  warnings.warn(message)\n",
      "[I 2025-06-27 14:15:11,751] Trial 2 finished with value: 0.8300811868631902 and parameters: {'model_type': 'rf', 'n_estimators': 277, 'max_depth': 35, 'min_samples_split': 13, 'min_samples_leaf': 5, 'max_features': 'sqrt', 'class_weight': 'balanced'}. Best is trial 2 with value: 0.8300811868631902.\n",
      "C:\\Users\\DEV KHAPRA\\AppData\\Local\\Programs\\Python\\Python313\\Lib\\site-packages\\optuna\\distributions.py:518: UserWarning: Choices for a categorical distribution should be a tuple of None, bool, int, float and str for persistent storage but contains {'benign': 1, 'possibly_damaging': 5} which is of type dict.\n",
      "  warnings.warn(message)\n",
      "[I 2025-06-27 14:15:17,589] Trial 3 finished with value: 0.7834993773775493 and parameters: {'model_type': 'dt', 'max_depth': 94, 'min_samples_split': 18, 'min_samples_leaf': 1, 'criterion': 'gini', 'class_weight': {'benign': 1, 'possibly_damaging': 5}}. Best is trial 2 with value: 0.8300811868631902.\n",
      "C:\\Users\\DEV KHAPRA\\AppData\\Local\\Programs\\Python\\Python313\\Lib\\site-packages\\optuna\\distributions.py:518: UserWarning: Choices for a categorical distribution should be a tuple of None, bool, int, float and str for persistent storage but contains {'benign': 1, 'possibly_damaging': 5} which is of type dict.\n",
      "  warnings.warn(message)\n",
      "[I 2025-06-27 14:15:21,283] Trial 4 finished with value: 0.8086197093634325 and parameters: {'model_type': 'dt', 'max_depth': 54, 'min_samples_split': 40, 'min_samples_leaf': 1, 'criterion': 'entropy', 'class_weight': 'balanced'}. Best is trial 2 with value: 0.8300811868631902.\n",
      "C:\\Users\\DEV KHAPRA\\AppData\\Local\\Programs\\Python\\Python313\\Lib\\site-packages\\optuna\\distributions.py:518: UserWarning: Choices for a categorical distribution should be a tuple of None, bool, int, float and str for persistent storage but contains {'benign': 1, 'possibly_damaging': 5} which is of type dict.\n",
      "  warnings.warn(message)\n",
      "[I 2025-06-27 14:15:23,629] Trial 5 finished with value: 0.3206555546187027 and parameters: {'model_type': 'rf', 'n_estimators': 139, 'max_depth': 33, 'min_samples_split': 9, 'min_samples_leaf': 3, 'max_features': 'sqrt', 'class_weight': {'benign': 1, 'possibly_damaging': 5}}. Best is trial 2 with value: 0.8300811868631902.\n",
      "C:\\Users\\DEV KHAPRA\\AppData\\Local\\Programs\\Python\\Python313\\Lib\\site-packages\\optuna\\distributions.py:518: UserWarning: Choices for a categorical distribution should be a tuple of None, bool, int, float and str for persistent storage but contains {'benign': 1, 'possibly_damaging': 5} which is of type dict.\n",
      "  warnings.warn(message)\n",
      "[I 2025-06-27 14:15:27,404] Trial 6 finished with value: 0.817366651684802 and parameters: {'model_type': 'rf', 'n_estimators': 237, 'max_depth': 89, 'min_samples_split': 21, 'min_samples_leaf': 1, 'max_features': 'log2', 'class_weight': 'balanced'}. Best is trial 2 with value: 0.8300811868631902.\n",
      "C:\\Users\\DEV KHAPRA\\AppData\\Local\\Programs\\Python\\Python313\\Lib\\site-packages\\optuna\\distributions.py:518: UserWarning: Choices for a categorical distribution should be a tuple of None, bool, int, float and str for persistent storage but contains {'benign': 1, 'possibly_damaging': 5} which is of type dict.\n",
      "  warnings.warn(message)\n",
      "[I 2025-06-27 14:15:32,537] Trial 7 finished with value: 0.4431340630065958 and parameters: {'model_type': 'rf', 'n_estimators': 298, 'max_depth': 83, 'min_samples_split': 14, 'min_samples_leaf': 4, 'max_features': 'sqrt', 'class_weight': {'benign': 1, 'possibly_damaging': 5}}. Best is trial 2 with value: 0.8300811868631902.\n",
      "C:\\Users\\DEV KHAPRA\\AppData\\Local\\Programs\\Python\\Python313\\Lib\\site-packages\\optuna\\distributions.py:518: UserWarning: Choices for a categorical distribution should be a tuple of None, bool, int, float and str for persistent storage but contains {'benign': 1, 'possibly_damaging': 5} which is of type dict.\n",
      "  warnings.warn(message)\n",
      "[I 2025-06-27 14:15:35,703] Trial 8 finished with value: 0.8083589260418393 and parameters: {'model_type': 'dt', 'max_depth': 89, 'min_samples_split': 36, 'min_samples_leaf': 2, 'criterion': 'entropy', 'class_weight': 'balanced'}. Best is trial 2 with value: 0.8300811868631902.\n",
      "C:\\Users\\DEV KHAPRA\\AppData\\Local\\Programs\\Python\\Python313\\Lib\\site-packages\\optuna\\distributions.py:518: UserWarning: Choices for a categorical distribution should be a tuple of None, bool, int, float and str for persistent storage but contains {'benign': 1, 'possibly_damaging': 5} which is of type dict.\n",
      "  warnings.warn(message)\n",
      "[I 2025-06-27 14:15:41,869] Trial 9 finished with value: 0.45331880346135467 and parameters: {'model_type': 'rf', 'n_estimators': 290, 'max_depth': 89, 'min_samples_split': 32, 'min_samples_leaf': 4, 'max_features': 'sqrt', 'class_weight': {'benign': 1, 'possibly_damaging': 5}}. Best is trial 2 with value: 0.8300811868631902.\n",
      "C:\\Users\\DEV KHAPRA\\AppData\\Local\\Programs\\Python\\Python313\\Lib\\site-packages\\optuna\\distributions.py:518: UserWarning: Choices for a categorical distribution should be a tuple of None, bool, int, float and str for persistent storage but contains {'benign': 1, 'possibly_damaging': 5} which is of type dict.\n",
      "  warnings.warn(message)\n",
      "[I 2025-06-27 14:15:45,039] Trial 10 finished with value: 0.8301256705394217 and parameters: {'model_type': 'rf', 'n_estimators': 153, 'max_depth': 30, 'min_samples_split': 7, 'min_samples_leaf': 5, 'max_features': 'sqrt', 'class_weight': 'balanced'}. Best is trial 10 with value: 0.8301256705394217.\n",
      "C:\\Users\\DEV KHAPRA\\AppData\\Local\\Programs\\Python\\Python313\\Lib\\site-packages\\optuna\\distributions.py:518: UserWarning: Choices for a categorical distribution should be a tuple of None, bool, int, float and str for persistent storage but contains {'benign': 1, 'possibly_damaging': 5} which is of type dict.\n",
      "  warnings.warn(message)\n",
      "[I 2025-06-27 14:15:48,223] Trial 11 finished with value: 0.830326255510513 and parameters: {'model_type': 'rf', 'n_estimators': 136, 'max_depth': 31, 'min_samples_split': 2, 'min_samples_leaf': 5, 'max_features': 'sqrt', 'class_weight': 'balanced'}. Best is trial 11 with value: 0.830326255510513.\n",
      "C:\\Users\\DEV KHAPRA\\AppData\\Local\\Programs\\Python\\Python313\\Lib\\site-packages\\optuna\\distributions.py:518: UserWarning: Choices for a categorical distribution should be a tuple of None, bool, int, float and str for persistent storage but contains {'benign': 1, 'possibly_damaging': 5} which is of type dict.\n",
      "  warnings.warn(message)\n",
      "[I 2025-06-27 14:15:51,462] Trial 12 finished with value: 0.8313611681339655 and parameters: {'model_type': 'rf', 'n_estimators': 131, 'max_depth': 46, 'min_samples_split': 3, 'min_samples_leaf': 4, 'max_features': 'sqrt', 'class_weight': 'balanced'}. Best is trial 12 with value: 0.8313611681339655.\n",
      "C:\\Users\\DEV KHAPRA\\AppData\\Local\\Programs\\Python\\Python313\\Lib\\site-packages\\optuna\\distributions.py:518: UserWarning: Choices for a categorical distribution should be a tuple of None, bool, int, float and str for persistent storage but contains {'benign': 1, 'possibly_damaging': 5} which is of type dict.\n",
      "  warnings.warn(message)\n",
      "[I 2025-06-27 14:15:54,313] Trial 13 finished with value: 0.8304098024738981 and parameters: {'model_type': 'rf', 'n_estimators': 111, 'max_depth': 48, 'min_samples_split': 3, 'min_samples_leaf': 4, 'max_features': 'sqrt', 'class_weight': 'balanced'}. Best is trial 12 with value: 0.8313611681339655.\n",
      "C:\\Users\\DEV KHAPRA\\AppData\\Local\\Programs\\Python\\Python313\\Lib\\site-packages\\optuna\\distributions.py:518: UserWarning: Choices for a categorical distribution should be a tuple of None, bool, int, float and str for persistent storage but contains {'benign': 1, 'possibly_damaging': 5} which is of type dict.\n",
      "  warnings.warn(message)\n",
      "[I 2025-06-27 14:15:57,264] Trial 14 finished with value: 0.8317188156006589 and parameters: {'model_type': 'rf', 'n_estimators': 106, 'max_depth': 49, 'min_samples_split': 3, 'min_samples_leaf': 3, 'max_features': 'sqrt', 'class_weight': 'balanced'}. Best is trial 14 with value: 0.8317188156006589.\n",
      "C:\\Users\\DEV KHAPRA\\AppData\\Local\\Programs\\Python\\Python313\\Lib\\site-packages\\optuna\\distributions.py:518: UserWarning: Choices for a categorical distribution should be a tuple of None, bool, int, float and str for persistent storage but contains {'benign': 1, 'possibly_damaging': 5} which is of type dict.\n",
      "  warnings.warn(message)\n",
      "[I 2025-06-27 14:15:58,805] Trial 15 finished with value: 0.7146388318668521 and parameters: {'model_type': 'rf', 'n_estimators': 102, 'max_depth': 56, 'min_samples_split': 28, 'min_samples_leaf': 3, 'max_features': 'log2', 'class_weight': 'balanced'}. Best is trial 14 with value: 0.8317188156006589.\n",
      "C:\\Users\\DEV KHAPRA\\AppData\\Local\\Programs\\Python\\Python313\\Lib\\site-packages\\optuna\\distributions.py:518: UserWarning: Choices for a categorical distribution should be a tuple of None, bool, int, float and str for persistent storage but contains {'benign': 1, 'possibly_damaging': 5} which is of type dict.\n",
      "  warnings.warn(message)\n",
      "[I 2025-06-27 14:16:02,053] Trial 16 finished with value: 0.8318927348386516 and parameters: {'model_type': 'rf', 'n_estimators': 171, 'max_depth': 44, 'min_samples_split': 7, 'min_samples_leaf': 2, 'max_features': 'sqrt', 'class_weight': 'balanced'}. Best is trial 16 with value: 0.8318927348386516.\n",
      "C:\\Users\\DEV KHAPRA\\AppData\\Local\\Programs\\Python\\Python313\\Lib\\site-packages\\optuna\\distributions.py:518: UserWarning: Choices for a categorical distribution should be a tuple of None, bool, int, float and str for persistent storage but contains {'benign': 1, 'possibly_damaging': 5} which is of type dict.\n",
      "  warnings.warn(message)\n",
      "[I 2025-06-27 14:16:07,457] Trial 17 finished with value: 0.832159693349606 and parameters: {'model_type': 'rf', 'n_estimators': 188, 'max_depth': 64, 'min_samples_split': 7, 'min_samples_leaf': 2, 'max_features': 'sqrt', 'class_weight': 'balanced'}. Best is trial 17 with value: 0.832159693349606.\n",
      "C:\\Users\\DEV KHAPRA\\AppData\\Local\\Programs\\Python\\Python313\\Lib\\site-packages\\optuna\\distributions.py:518: UserWarning: Choices for a categorical distribution should be a tuple of None, bool, int, float and str for persistent storage but contains {'benign': 1, 'possibly_damaging': 5} which is of type dict.\n",
      "  warnings.warn(message)\n",
      "[I 2025-06-27 14:16:11,149] Trial 18 finished with value: 0.7930518947662177 and parameters: {'model_type': 'dt', 'max_depth': 67, 'min_samples_split': 9, 'min_samples_leaf': 2, 'criterion': 'log_loss', 'class_weight': 'balanced'}. Best is trial 17 with value: 0.832159693349606.\n",
      "C:\\Users\\DEV KHAPRA\\AppData\\Local\\Programs\\Python\\Python313\\Lib\\site-packages\\optuna\\distributions.py:518: UserWarning: Choices for a categorical distribution should be a tuple of None, bool, int, float and str for persistent storage but contains {'benign': 1, 'possibly_damaging': 5} which is of type dict.\n",
      "  warnings.warn(message)\n",
      "[I 2025-06-27 14:16:12,898] Trial 19 finished with value: 0.7953559411664207 and parameters: {'model_type': 'rf', 'n_estimators': 176, 'max_depth': 67, 'min_samples_split': 12, 'min_samples_leaf': 2, 'max_features': 'log2', 'class_weight': 'balanced'}. Best is trial 17 with value: 0.832159693349606.\n",
      "C:\\Users\\DEV KHAPRA\\AppData\\Local\\Programs\\Python\\Python313\\Lib\\site-packages\\optuna\\distributions.py:518: UserWarning: Choices for a categorical distribution should be a tuple of None, bool, int, float and str for persistent storage but contains {'benign': 1, 'possibly_damaging': 5} which is of type dict.\n",
      "  warnings.warn(message)\n",
      "[I 2025-06-27 14:16:16,572] Trial 20 finished with value: 0.8310912381123311 and parameters: {'model_type': 'rf', 'n_estimators': 190, 'max_depth': 40, 'min_samples_split': 8, 'min_samples_leaf': 2, 'max_features': 'sqrt', 'class_weight': 'balanced'}. Best is trial 17 with value: 0.832159693349606.\n",
      "C:\\Users\\DEV KHAPRA\\AppData\\Local\\Programs\\Python\\Python313\\Lib\\site-packages\\optuna\\distributions.py:518: UserWarning: Choices for a categorical distribution should be a tuple of None, bool, int, float and str for persistent storage but contains {'benign': 1, 'possibly_damaging': 5} which is of type dict.\n",
      "  warnings.warn(message)\n",
      "[I 2025-06-27 14:16:21,348] Trial 21 finished with value: 0.8316892428766538 and parameters: {'model_type': 'rf', 'n_estimators': 219, 'max_depth': 57, 'min_samples_split': 6, 'min_samples_leaf': 3, 'max_features': 'sqrt', 'class_weight': 'balanced'}. Best is trial 17 with value: 0.832159693349606.\n",
      "C:\\Users\\DEV KHAPRA\\AppData\\Local\\Programs\\Python\\Python313\\Lib\\site-packages\\optuna\\distributions.py:518: UserWarning: Choices for a categorical distribution should be a tuple of None, bool, int, float and str for persistent storage but contains {'benign': 1, 'possibly_damaging': 5} which is of type dict.\n",
      "  warnings.warn(message)\n",
      "[I 2025-06-27 14:16:25,262] Trial 22 finished with value: 0.8319479588123659 and parameters: {'model_type': 'rf', 'n_estimators': 174, 'max_depth': 45, 'min_samples_split': 5, 'min_samples_leaf': 2, 'max_features': 'sqrt', 'class_weight': 'balanced'}. Best is trial 17 with value: 0.832159693349606.\n",
      "C:\\Users\\DEV KHAPRA\\AppData\\Local\\Programs\\Python\\Python313\\Lib\\site-packages\\optuna\\distributions.py:518: UserWarning: Choices for a categorical distribution should be a tuple of None, bool, int, float and str for persistent storage but contains {'benign': 1, 'possibly_damaging': 5} which is of type dict.\n",
      "  warnings.warn(message)\n",
      "[I 2025-06-27 14:16:28,554] Trial 23 finished with value: 0.8313564396072538 and parameters: {'model_type': 'rf', 'n_estimators': 165, 'max_depth': 41, 'min_samples_split': 11, 'min_samples_leaf': 2, 'max_features': 'sqrt', 'class_weight': 'balanced'}. Best is trial 17 with value: 0.832159693349606.\n",
      "C:\\Users\\DEV KHAPRA\\AppData\\Local\\Programs\\Python\\Python313\\Lib\\site-packages\\optuna\\distributions.py:518: UserWarning: Choices for a categorical distribution should be a tuple of None, bool, int, float and str for persistent storage but contains {'benign': 1, 'possibly_damaging': 5} which is of type dict.\n",
      "  warnings.warn(message)\n",
      "[I 2025-06-27 14:16:32,932] Trial 24 finished with value: 0.8325305484875759 and parameters: {'model_type': 'rf', 'n_estimators': 190, 'max_depth': 61, 'min_samples_split': 16, 'min_samples_leaf': 2, 'max_features': 'sqrt', 'class_weight': 'balanced'}. Best is trial 24 with value: 0.8325305484875759.\n",
      "C:\\Users\\DEV KHAPRA\\AppData\\Local\\Programs\\Python\\Python313\\Lib\\site-packages\\optuna\\distributions.py:518: UserWarning: Choices for a categorical distribution should be a tuple of None, bool, int, float and str for persistent storage but contains {'benign': 1, 'possibly_damaging': 5} which is of type dict.\n",
      "  warnings.warn(message)\n",
      "[I 2025-06-27 14:16:37,485] Trial 25 finished with value: 0.8330893503067401 and parameters: {'model_type': 'rf', 'n_estimators': 197, 'max_depth': 62, 'min_samples_split': 16, 'min_samples_leaf': 2, 'max_features': 'sqrt', 'class_weight': 'balanced'}. Best is trial 25 with value: 0.8330893503067401.\n",
      "C:\\Users\\DEV KHAPRA\\AppData\\Local\\Programs\\Python\\Python313\\Lib\\site-packages\\optuna\\distributions.py:518: UserWarning: Choices for a categorical distribution should be a tuple of None, bool, int, float and str for persistent storage but contains {'benign': 1, 'possibly_damaging': 5} which is of type dict.\n",
      "  warnings.warn(message)\n",
      "[I 2025-06-27 14:16:39,130] Trial 26 finished with value: 0.7718034436314793 and parameters: {'model_type': 'dt', 'max_depth': 11, 'min_samples_split': 22, 'min_samples_leaf': 3, 'criterion': 'gini', 'class_weight': {'benign': 1, 'possibly_damaging': 5}}. Best is trial 25 with value: 0.8330893503067401.\n",
      "C:\\Users\\DEV KHAPRA\\AppData\\Local\\Programs\\Python\\Python313\\Lib\\site-packages\\optuna\\distributions.py:518: UserWarning: Choices for a categorical distribution should be a tuple of None, bool, int, float and str for persistent storage but contains {'benign': 1, 'possibly_damaging': 5} which is of type dict.\n",
      "  warnings.warn(message)\n",
      "[I 2025-06-27 14:16:50,628] Trial 27 finished with value: 0.8369637230027801 and parameters: {'model_type': 'rf', 'n_estimators': 247, 'max_depth': 74, 'min_samples_split': 27, 'min_samples_leaf': 1, 'max_features': 'sqrt', 'class_weight': 'balanced'}. Best is trial 27 with value: 0.8369637230027801.\n",
      "C:\\Users\\DEV KHAPRA\\AppData\\Local\\Programs\\Python\\Python313\\Lib\\site-packages\\optuna\\distributions.py:518: UserWarning: Choices for a categorical distribution should be a tuple of None, bool, int, float and str for persistent storage but contains {'benign': 1, 'possibly_damaging': 5} which is of type dict.\n",
      "  warnings.warn(message)\n",
      "[I 2025-06-27 14:16:53,872] Trial 28 finished with value: 0.8170383779481138 and parameters: {'model_type': 'rf', 'n_estimators': 251, 'max_depth': 75, 'min_samples_split': 24, 'min_samples_leaf': 1, 'max_features': 'log2', 'class_weight': 'balanced'}. Best is trial 27 with value: 0.8369637230027801.\n",
      "C:\\Users\\DEV KHAPRA\\AppData\\Local\\Programs\\Python\\Python313\\Lib\\site-packages\\optuna\\distributions.py:518: UserWarning: Choices for a categorical distribution should be a tuple of None, bool, int, float and str for persistent storage but contains {'benign': 1, 'possibly_damaging': 5} which is of type dict.\n",
      "  warnings.warn(message)\n",
      "[I 2025-06-27 14:16:58,849] Trial 29 finished with value: 0.7758630773509111 and parameters: {'model_type': 'dt', 'max_depth': 77, 'min_samples_split': 27, 'min_samples_leaf': 1, 'criterion': 'log_loss', 'class_weight': {'benign': 1, 'possibly_damaging': 5}}. Best is trial 27 with value: 0.8369637230027801.\n"
     ]
    },
    {
     "name": "stdout",
     "output_type": "stream",
     "text": [
      " Best Model Type: rf\n",
      " Best Hyperparameters: {'model_type': 'rf', 'n_estimators': 247, 'max_depth': 74, 'min_samples_split': 27, 'min_samples_leaf': 1, 'max_features': 'sqrt', 'class_weight': 'balanced'}\n",
      " Best CV f1_macro Score: 0.8369637230027801\n"
     ]
    }
   ],
   "source": [
    "\n",
    "def objective(trial):\n",
    "    model_type = trial.suggest_categorical(\"model_type\", [\"rf\", \"dt\"])\n",
    "\n",
    "    if model_type == \"rf\":\n",
    "        params = {\n",
    "            \"n_estimators\": trial.suggest_int(\"n_estimators\", 100, 300),\n",
    "            \"max_depth\": trial.suggest_int(\"max_depth\", 30, 100),\n",
    "            \"min_samples_split\": trial.suggest_int(\"min_samples_split\", 2, 40),\n",
    "            \"min_samples_leaf\": trial.suggest_int(\"min_samples_leaf\", 1, 5),\n",
    "            \"max_features\": trial.suggest_categorical(\"max_features\", [\"sqrt\", \"log2\"]),\n",
    "            \"class_weight\": trial.suggest_categorical(\"class_weight\", [\"balanced\", {\"benign\": 1, \"possibly_damaging\": 5}]),\n",
    "            \"random_state\": 42,\n",
    "            \"n_jobs\": -1\n",
    "        }\n",
    "        clf = RandomForestClassifier(**params)\n",
    "\n",
    "    else:  \n",
    "        params = {\n",
    "            \"max_depth\": trial.suggest_int(\"max_depth\", 10, 100),\n",
    "            \"min_samples_split\": trial.suggest_int(\"min_samples_split\", 2, 40),\n",
    "            \"min_samples_leaf\": trial.suggest_int(\"min_samples_leaf\", 1, 5),\n",
    "            \"criterion\": trial.suggest_categorical(\"criterion\", [\"gini\", \"entropy\", \"log_loss\"]),\n",
    "           \"class_weight\": trial.suggest_categorical(\"class_weight\", [\"balanced\", {\"benign\": 1, \"possibly_damaging\": 5}]),\n",
    "            \"random_state\": 42\n",
    "        }\n",
    "        clf = DecisionTreeClassifier(**params)\n",
    "\n",
    "    pipeline = Pipeline([\n",
    "        ('preprocessor', processor),\n",
    "        ('clf', clf)\n",
    "    ])\n",
    "\n",
    "    cv = StratifiedKFold(n_splits=3, shuffle=True, random_state=42)\n",
    "    scores = cross_val_score(pipeline, x_train, y_train,\n",
    "                             cv=cv, scoring='f1_macro', n_jobs=-1)\n",
    "\n",
    "    return np.mean(scores)\n",
    "\n",
    "\n",
    "study = optuna.create_study(direction='maximize', study_name='RF_DT_Search')\n",
    "study.optimize(objective, n_trials=30)\n",
    "\n",
    "\n",
    "print(\" Best Model Type:\", study.best_params['model_type'])\n",
    "print(\" Best Hyperparameters:\", study.best_params)\n",
    "print(\" Best CV f1_macro Score:\", study.best_value)\n",
    "\n"
   ]
  },
  {
   "cell_type": "code",
   "execution_count": 18,
   "id": "90ed94da-65ef-4895-b0dc-dac9efc8d0b0",
   "metadata": {},
   "outputs": [
    {
     "name": "stderr",
     "output_type": "stream",
     "text": [
      "[Parallel(n_jobs=-1)]: Using backend ThreadingBackend with 8 concurrent workers.\n",
      "[Parallel(n_jobs=-1)]: Done  34 tasks      | elapsed:    1.1s\n",
      "[Parallel(n_jobs=-1)]: Done 184 tasks      | elapsed:    6.3s\n",
      "[Parallel(n_jobs=-1)]: Done 267 out of 267 | elapsed:    9.0s finished\n",
      "C:\\Users\\DEV KHAPRA\\AppData\\Local\\Programs\\Python\\Python313\\Lib\\site-packages\\sklearn\\preprocessing\\_encoders.py:246: UserWarning: Found unknown categories in columns [1, 2, 3, 4, 5, 7, 8, 11, 13, 15, 16, 17, 18, 19, 20, 21] during transform. These unknown categories will be encoded as all zeros\n",
      "  warnings.warn(\n",
      "[Parallel(n_jobs=8)]: Using backend ThreadingBackend with 8 concurrent workers.\n",
      "[Parallel(n_jobs=8)]: Done  34 tasks      | elapsed:    0.0s\n",
      "[Parallel(n_jobs=8)]: Done 184 tasks      | elapsed:    0.0s\n"
     ]
    },
    {
     "name": "stdout",
     "output_type": "stream",
     "text": [
      "accuracy on test set:                    precision    recall  f1-score   support\n",
      "\n",
      "           benign       0.85      0.86      0.85      2662\n",
      "possibly_damaging       0.83      0.82      0.83      2297\n",
      "\n",
      "         accuracy                           0.84      4959\n",
      "        macro avg       0.84      0.84      0.84      4959\n",
      "     weighted avg       0.84      0.84      0.84      4959\n",
      "\n"
     ]
    },
    {
     "name": "stderr",
     "output_type": "stream",
     "text": [
      "[Parallel(n_jobs=8)]: Done 267 out of 267 | elapsed:    0.1s finished\n"
     ]
    }
   ],
   "source": [
    "final_pipeline=Pipeline([\n",
    "    ('preprocessor',processor),\n",
    "    ('random forest',RandomForestClassifier(n_estimators=267,max_depth=76,min_samples_split=13,min_samples_leaf=1,max_features='sqrt',\n",
    "                                             class_weight='balanced',random_state=42,verbose=True,n_jobs=-1))\n",
    "])\n",
    "final_pipeline.fit(x_train,y_train)\n",
    "y_pred=final_pipeline.predict(x_test)\n",
    "\n",
    "report=classification_report(y_test,y_pred)\n",
    "print(\"accuracy on test set:\",report)\n",
    "\n"
   ]
  },
  {
   "cell_type": "code",
   "execution_count": 19,
   "id": "c8223887-cc08-4f1f-b7e3-edbb4e34d0a3",
   "metadata": {},
   "outputs": [],
   "source": [
    "import joblib"
   ]
  },
  {
   "cell_type": "code",
   "execution_count": 21,
   "id": "fe50091d-7d14-4566-8d9a-019d366b099c",
   "metadata": {},
   "outputs": [
    {
     "data": {
      "text/plain": [
       "['final_pipeline.pkl']"
      ]
     },
     "execution_count": 21,
     "metadata": {},
     "output_type": "execute_result"
    }
   ],
   "source": [
    "joblib.dump(final_pipeline,'final_pipeline.pkl')"
   ]
  },
  {
   "cell_type": "code",
   "execution_count": 22,
   "id": "06a2efbd-9c44-4494-b111-46fd55098972",
   "metadata": {},
   "outputs": [
    {
     "data": {
      "text/plain": [
       "['C:\\\\Users\\\\DEV KHAPRA\\\\OneDrive\\\\Desktop\\\\jupyter notebook\\\\gene_mutation\\\\final_pipeline.pkl']"
      ]
     },
     "execution_count": 22,
     "metadata": {},
     "output_type": "execute_result"
    }
   ],
   "source": [
    "joblib.dump(final_pipeline,'C:\\\\Users\\\\DEV KHAPRA\\\\OneDrive\\\\Desktop\\\\jupyter notebook\\\\gene_mutation\\\\final_pipeline.pkl')"
   ]
  },
  {
   "cell_type": "code",
   "execution_count": 23,
   "id": "009ecc14-9c2b-432b-b6bf-bff907984bea",
   "metadata": {},
   "outputs": [
    {
     "name": "stdout",
     "output_type": "stream",
     "text": [
      "1.6.1\n"
     ]
    }
   ],
   "source": [
    "import sklearn\n",
    "print( sklearn.__version__)"
   ]
  },
  {
   "cell_type": "code",
   "execution_count": 24,
   "id": "c315cdfb-1575-4f46-8f2e-2e518b1326ba",
   "metadata": {},
   "outputs": [
    {
     "name": "stdout",
     "output_type": "stream",
     "text": [
      "Requirement already satisfied: cloudpickle in c:\\users\\dev khapra\\appdata\\local\\programs\\python\\python313\\lib\\site-packages (3.1.1)\n"
     ]
    },
    {
     "name": "stderr",
     "output_type": "stream",
     "text": [
      "\n",
      "[notice] A new release of pip is available: 24.3.1 -> 25.1.1\n",
      "[notice] To update, run: python.exe -m pip install --upgrade pip\n"
     ]
    }
   ],
   "source": [
    "!pip install cloudpickle\n",
    "import cloudpickle\n",
    "import os"
   ]
  },
  {
   "cell_type": "code",
   "execution_count": 25,
   "id": "50a3cf91-25a3-4109-8320-627930ecd10e",
   "metadata": {},
   "outputs": [],
   "source": [
    "save_dir = r\"C:\\Users\\DEV KHAPRA\\OneDrive\\Desktop\\jupyter notebook\\gene_mutation\\models\"\n",
    "os.makedirs(save_dir, exist_ok=True)  # Create directory if it doesn't exist\n",
    "\n",
    "file_path = os.path.join(save_dir, \"final_pipelineY.pkl\")\n",
    "\n",
    "with open(file_path, \"wb\") as f:\n",
    "    cloudpickle.dump(final_pipeline, f)"
   ]
  },
  {
   "cell_type": "code",
   "execution_count": null,
   "id": "ca74046c-8063-4510-af0a-66277d5f4ab8",
   "metadata": {},
   "outputs": [],
   "source": []
  }
 ],
 "metadata": {
  "kernelspec": {
   "display_name": "Python 3 (ipykernel)",
   "language": "python",
   "name": "python3"
  },
  "language_info": {
   "codemirror_mode": {
    "name": "ipython",
    "version": 3
   },
   "file_extension": ".py",
   "mimetype": "text/x-python",
   "name": "python",
   "nbconvert_exporter": "python",
   "pygments_lexer": "ipython3",
   "version": "3.13.1"
  }
 },
 "nbformat": 4,
 "nbformat_minor": 5
}
